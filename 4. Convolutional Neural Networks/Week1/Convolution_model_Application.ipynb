{
 "cells": [
  {
   "cell_type": "markdown",
   "metadata": {},
   "source": [
    "# Convolutional Neural Networks: Application\n",
    "\n",
    "Welcome to Course 4's second assignment! In this notebook, you will:\n",
    "\n",
    "- Create a mood classifer using the TF Keras Sequential API\n",
    "- Build a ConvNet to identify sign language digits using the TF Keras Functional API\n",
    "\n",
    "**After this assignment you will be able to:**\n",
    "\n",
    "- Build and train a ConvNet in TensorFlow for a __binary__ classification problem\n",
    "- Build and train a ConvNet in TensorFlow for a __multiclass__ classification problem\n",
    "- Explain different use cases for the Sequential and Functional APIs\n",
    "\n",
    "To complete this assignment, you should already be familiar with TensorFlow. If you are not, please refer back to the **TensorFlow Tutorial** of the third week of Course 2 (\"**Improving deep neural networks**\").\n",
    "\n",
    "## Important Note on Submission to the AutoGrader\n",
    "\n",
    "Before submitting your assignment to the AutoGrader, please make sure you are not doing the following:\n",
    "\n",
    "1. You have not added any _extra_ `print` statement(s) in the assignment.\n",
    "2. You have not added any _extra_ code cell(s) in the assignment.\n",
    "3. You have not changed any of the function parameters.\n",
    "4. You are not using any global variables inside your graded exercises. Unless specifically instructed to do so, please refrain from it and use the local variables instead.\n",
    "5. You are not changing the assignment code where it is not required, like creating _extra_ variables.\n",
    "\n",
    "If you do any of the following, you will get something like, `Grader Error: Grader feedback not found` (or similarly unexpected) error upon submitting your assignment. Before asking for help/debugging the errors in your assignment, check for these first. If this is the case, and you don't remember the changes you have made, you can get a fresh copy of the assignment by following these [instructions](https://www.coursera.org/learn/convolutional-neural-networks/supplement/DS4yP/h-ow-to-refresh-your-workspace)."
   ]
  },
  {
   "cell_type": "markdown",
   "metadata": {},
   "source": [
    "## Table of Contents\n",
    "\n",
    "- [1 - Packages](#1)\n",
    "    - [1.1 - Load the Data and Split the Data into Train/Test Sets](#1-1)\n",
    "- [2 - Layers in TF Keras](#2)\n",
    "- [3 - The Sequential API](#3)\n",
    "    - [3.1 - Create the Sequential Model](#3-1)\n",
    "        - [Exercise 1 - happyModel](#ex-1)\n",
    "    - [3.2 - Train and Evaluate the Model](#3-2)\n",
    "- [4 - The Functional API](#4)\n",
    "    - [4.1 - Load the SIGNS Dataset](#4-1)\n",
    "    - [4.2 - Split the Data into Train/Test Sets](#4-2)\n",
    "    - [4.3 - Forward Propagation](#4-3)\n",
    "        - [Exercise 2 - convolutional_model](#ex-2)\n",
    "    - [4.4 - Train the Model](#4-4)\n",
    "- [5 - History Object](#5)\n",
    "- [6 - Bibliography](#6)"
   ]
  },
  {
   "cell_type": "markdown",
   "metadata": {},
   "source": [
    "<a name='1'></a>\n",
    "## 1 - Packages\n",
    "\n",
    "As usual, begin by loading in the packages."
   ]
  },
  {
   "cell_type": "code",
   "execution_count": 1,
   "metadata": {
    "deletable": false,
    "editable": false
   },
   "outputs": [],
   "source": [
    "### v1.1"
   ]
  },
  {
   "cell_type": "code",
   "execution_count": 2,
   "metadata": {},
   "outputs": [],
   "source": [
    "import math\n",
    "import numpy as np\n",
    "import h5py\n",
    "import matplotlib.pyplot as plt\n",
    "from matplotlib.pyplot import imread\n",
    "import scipy\n",
    "from PIL import Image\n",
    "import pandas as pd\n",
    "import tensorflow as tf\n",
    "import tensorflow.keras.layers as tfl\n",
    "from tensorflow.python.framework import ops\n",
    "from cnn_utils import *\n",
    "from test_utils import summary, comparator\n",
    "\n",
    "%matplotlib inline\n",
    "np.random.seed(1)"
   ]
  },
  {
   "cell_type": "markdown",
   "metadata": {},
   "source": [
    "<a name='1-1'></a>\n",
    "### 1.1 - Load the Data and Split the Data into Train/Test Sets\n",
    "\n",
    "You'll be using the Happy House dataset for this part of the assignment, which contains images of peoples' faces. Your task will be to build a ConvNet that determines whether the people in the images are smiling or not -- because they only get to enter the house if they're smiling!  "
   ]
  },
  {
   "cell_type": "code",
   "execution_count": 3,
   "metadata": {},
   "outputs": [
    {
     "name": "stdout",
     "output_type": "stream",
     "text": [
      "number of training examples = 600\n",
      "number of test examples = 150\n",
      "X_train shape: (600, 64, 64, 3)\n",
      "Y_train shape: (600, 1)\n",
      "X_test shape: (150, 64, 64, 3)\n",
      "Y_test shape: (150, 1)\n"
     ]
    }
   ],
   "source": [
    "X_train_orig, Y_train_orig, X_test_orig, Y_test_orig, classes = load_happy_dataset()\n",
    "\n",
    "# Normalize image vectors\n",
    "X_train = X_train_orig/255.\n",
    "X_test = X_test_orig/255.\n",
    "\n",
    "# Reshape\n",
    "Y_train = Y_train_orig.T\n",
    "Y_test = Y_test_orig.T\n",
    "\n",
    "print (\"number of training examples = \" + str(X_train.shape[0]))\n",
    "print (\"number of test examples = \" + str(X_test.shape[0]))\n",
    "print (\"X_train shape: \" + str(X_train.shape))\n",
    "print (\"Y_train shape: \" + str(Y_train.shape))\n",
    "print (\"X_test shape: \" + str(X_test.shape))\n",
    "print (\"Y_test shape: \" + str(Y_test.shape))"
   ]
  },
  {
   "cell_type": "markdown",
   "metadata": {},
   "source": [
    "You can display the images contained in the dataset. Images are **64x64** pixels in RGB format (3 channels)."
   ]
  },
  {
   "cell_type": "code",
   "execution_count": 4,
   "metadata": {},
   "outputs": [
    {
     "data": {
      "image/png": "[encoded data removed]",
      "text/plain": [
       "<Figure size 432x288 with 1 Axes>"
      ]
     },
     "metadata": {
      "needs_background": "light"
     },
     "output_type": "display_data"
    }
   ],
   "source": [
    "index = 124\n",
    "plt.imshow(X_train_orig[index]) #display sample training image\n",
    "plt.show()"
   ]
  },
  {
   "cell_type": "markdown",
   "metadata": {},
   "source": [
    "<a name='2'></a>\n",
    "## 2 - Layers in TF Keras \n",
    "\n",
    "In the previous assignment, you created layers manually in numpy. In TF Keras, you don't have to write code directly to create layers. Rather, TF Keras has pre-defined layers you can use. \n",
    "\n",
    "When you create a layer in TF Keras, you are creating a function that takes some input and transforms it into an output you can reuse later. Nice and easy! "
   ]
  },
  {
   "cell_type": "markdown",
   "metadata": {},
   "source": [
    "<a name='3'></a>\n",
    "## 3 - The Sequential API\n",
    "\n",
    "In the previous assignment, you built helper functions using `numpy` to understand the mechanics behind convolutional neural networks. Most practical applications of deep learning today are built using programming frameworks, which have many built-in functions you can simply call. Keras is a high-level abstraction built on top of TensorFlow, which allows for even more simplified and optimized model creation and training. \n",
    "\n",
    "For the first part of this assignment, you'll create a model using TF Keras' Sequential API, which allows you to build layer by layer, and is ideal for building models where each layer has **exactly one** input tensor and **one** output tensor. \n",
    "\n",
    "As you'll see, using the Sequential API is simple and straightforward, but is only appropriate for simpler, more straightforward tasks. Later in this notebook you'll spend some time building with a more flexible, powerful alternative: the Functional API. \n",
    " "
   ]
  },
  {
   "cell_type": "markdown",
   "metadata": {},
   "source": [
    "<a name='3-1'></a>\n",
    "### 3.1 - Create the Sequential Model\n",
    "\n",
    "As mentioned earlier, the TensorFlow Keras Sequential API can be used to build simple models with layer operations that proceed in a sequential order. \n",
    "\n",
    "You can also add layers incrementally to a Sequential model with the `.add()` method, or remove them using the `.pop()` method, much like you would in a regular Python list.\n",
    "\n",
    "Actually, you can think of a Sequential model as behaving like a list of layers. Like Python lists, Sequential layers are ordered, and the order in which they are specified matters.  If your model is non-linear or contains layers with multiple inputs or outputs, a Sequential model wouldn't be the right choice!\n",
    "\n",
    "For any layer construction in Keras, you'll need to specify the input shape in advance. This is because in Keras, the shape of the weights is based on the shape of the inputs. The weights are only created when the model first sees some input data. Sequential models can be created by passing a list of layers to the Sequential constructor, like you will do in the next assignment.\n",
    "\n",
    "<a name='ex-1'></a>\n",
    "### Exercise 1 - happyModel\n",
    "\n",
    "Implement the `happyModel` function below to build the following model: `ZEROPAD2D -> CONV2D -> BATCHNORM -> RELU -> MAXPOOL -> FLATTEN -> DENSE`. Take help from [tf.keras.layers](https://www.tensorflow.org/api_docs/python/tf/keras/layers) \n",
    "\n",
    "Also, plug in the following parameters for all the steps:\n",
    "\n",
    " - [ZeroPadding2D](https://www.tensorflow.org/api_docs/python/tf/keras/layers/ZeroPadding2D): padding 3, input shape 64 x 64 x 3\n",
    " - [Conv2D](https://www.tensorflow.org/api_docs/python/tf/keras/layers/Conv2D): Use 32 7x7 filters, stride 1\n",
    " - [BatchNormalization](https://www.tensorflow.org/api_docs/python/tf/keras/layers/BatchNormalization): for axis 3\n",
    " - [ReLU](https://www.tensorflow.org/api_docs/python/tf/keras/layers/ReLU)\n",
    " - [MaxPool2D](https://www.tensorflow.org/api_docs/python/tf/keras/layers/MaxPool2D): Using default parameters\n",
    " - [Flatten](https://www.tensorflow.org/api_docs/python/tf/keras/layers/Flatten) the previous output.\n",
    " - Fully-connected ([Dense](https://www.tensorflow.org/api_docs/python/tf/keras/layers/Dense)) layer: Apply a fully connected layer with 1 neuron and a sigmoid activation. \n",
    " \n",
    " \n",
    " **Hint:**\n",
    " \n",
    " Use **tfl** as shorthand for **tensorflow.keras.layers**"
   ]
  },
  {
   "cell_type": "code",
   "execution_count": 15,
   "metadata": {
    "deletable": false,
    "nbgrader": {
     "cell_type": "code",
     "checksum": "95d28b191f257bdd5b70c7b8952559d5",
     "grade": false,
     "grade_id": "cell-0e56d3fc28b69aec",
     "locked": false,
     "schema_version": 3,
     "solution": true,
     "task": false
    }
   },
   "outputs": [],
   "source": [
    "# GRADED FUNCTION: happyModel\n",
    "\n",
    "def happyModel():\n",
    "    \"\"\"\n",
    "    Implements the forward propagation for the binary classification model:\n",
    "    ZEROPAD2D -> CONV2D -> BATCHNORM -> RELU -> MAXPOOL -> FLATTEN -> DENSE\n",
    "    \n",
    "    Note that for simplicity and grading purposes, you'll hard-code all the values\n",
    "    such as the stride and kernel (filter) sizes. \n",
    "    Normally, functions should take these values as function parameters.\n",
    "    \n",
    "    Arguments:\n",
    "    None\n",
    "\n",
    "    Returns:\n",
    "    model -- TF Keras model (object containing the information for the entire training process) \n",
    "    \"\"\"\n",
    "    model = tf.keras.Sequential([\n",
    "            ## ZeroPadding2D with padding 3, input shape of 64 x 64 x 3\n",
    "            \n",
    "            ## Conv2D with 32 7x7 filters and stride of 1\n",
    "            \n",
    "            ## BatchNormalization for axis 3\n",
    "            \n",
    "            ## ReLU\n",
    "            \n",
    "            ## Max Pooling 2D with default parameters\n",
    "            \n",
    "            ## Flatten layer\n",
    "            \n",
    "            ## Dense layer with 1 unit for output & 'sigmoid' activation\n",
    "            \n",
    "            # YOUR CODE STARTS HERE\n",
    "            tfl.ZeroPadding2D(padding=(3,3), input_shape=(64, 64, 3)),\n",
    "            tfl.Conv2D(filters=32, kernel_size=(7, 7), strides=(1, 1)),\n",
    "            tfl.BatchNormalization(axis=3),\n",
    "            tfl.ReLU(),\n",
    "            tfl.MaxPooling2D(),\n",
    "            tfl.Flatten(),\n",
    "            tfl.Dense(units=1, activation='sigmoid')\n",
    "            # YOUR CODE ENDS HERE\n",
    "        ])\n",
    "    \n",
    "    return model"
   ]
  },
  {
   "cell_type": "code",
   "execution_count": 16,
   "metadata": {
    "deletable": false,
    "editable": false,
    "nbgrader": {
     "cell_type": "code",
     "checksum": "8d3575c950e2e78149be2d05d671c80d",
     "grade": true,
     "grade_id": "cell-e3e1046e5c33d775",
     "locked": true,
     "points": 10,
     "schema_version": 3,
     "solution": false,
     "task": false
    }
   },
   "outputs": [
    {
     "name": "stdout",
     "output_type": "stream",
     "text": [
      "['ZeroPadding2D', (None, 70, 70, 3), 0, ((3, 3), (3, 3))]\n",
      "['Conv2D', (None, 64, 64, 32), 4736, 'valid', 'linear', 'GlorotUniform']\n",
      "['BatchNormalization', (None, 64, 64, 32), 128]\n",
      "['ReLU', (None, 64, 64, 32), 0]\n",
      "['MaxPooling2D', (None, 32, 32, 32), 0, (2, 2), (2, 2), 'valid']\n",
      "['Flatten', (None, 32768), 0]\n",
      "['Dense', (None, 1), 32769, 'sigmoid']\n",
      "\u001b[32mAll tests passed!\u001b[0m\n"
     ]
    }
   ],
   "source": [
    "happy_model = happyModel()\n",
    "# Print a summary for each layer\n",
    "for layer in summary(happy_model):\n",
    "    print(layer)\n",
    "    \n",
    "output = [['ZeroPadding2D', (None, 70, 70, 3), 0, ((3, 3), (3, 3))],\n",
    "            ['Conv2D', (None, 64, 64, 32), 4736, 'valid', 'linear', 'GlorotUniform'],\n",
    "            ['BatchNormalization', (None, 64, 64, 32), 128],\n",
    "            ['ReLU', (None, 64, 64, 32), 0],\n",
    "            ['MaxPooling2D', (None, 32, 32, 32), 0, (2, 2), (2, 2), 'valid'],\n",
    "            ['Flatten', (None, 32768), 0],\n",
    "            ['Dense', (None, 1), 32769, 'sigmoid']]\n",
    "    \n",
    "comparator(summary(happy_model), output)"
   ]
  },
  {
   "cell_type": "markdown",
   "metadata": {},
   "source": [
    "#### Expected Output:\n",
    "\n",
    "```\n",
    "['ZeroPadding2D', (None, 70, 70, 3), 0, ((3, 3), (3, 3))]\n",
    "['Conv2D', (None, 64, 64, 32), 4736, 'valid', 'linear', 'GlorotUniform']\n",
    "['BatchNormalization', (None, 64, 64, 32), 128]\n",
    "['ReLU', (None, 64, 64, 32), 0]\n",
    "['MaxPooling2D', (None, 32, 32, 32), 0, (2, 2), (2, 2), 'valid']\n",
    "['Flatten', (None, 32768), 0]\n",
    "['Dense', (None, 1), 32769, 'sigmoid']\n",
    "All tests passed!\n",
    "```"
   ]
  },
  {
   "cell_type": "markdown",
   "metadata": {},
   "source": [
    "Now that your model is created, you can compile it for training with an optimizer and loss of your choice. When the string `accuracy` is specified as a metric, the type of accuracy used will be automatically converted based on the loss function used. This is one of the many optimizations built into TensorFlow that make your life easier! If you'd like to read more on how the compiler operates, check the docs [here](https://www.tensorflow.org/api_docs/python/tf/keras/Model#compile)."
   ]
  },
  {
   "cell_type": "code",
   "execution_count": 17,
   "metadata": {},
   "outputs": [],
   "source": [
    "happy_model.compile(optimizer='adam',\n",
    "                   loss='binary_crossentropy',\n",
    "                   metrics=['accuracy'])"
   ]
  },
  {
   "cell_type": "markdown",
   "metadata": {},
   "source": [
    "It's time to check your model's parameters with the `.summary()` method. This will display the types of layers you have, the shape of the outputs, and how many parameters are in each layer. "
   ]
  },
  {
   "cell_type": "code",
   "execution_count": 18,
   "metadata": {},
   "outputs": [
    {
     "name": "stdout",
     "output_type": "stream",
     "text": [
      "Model: \"sequential\"\n",
      "_________________________________________________________________\n",
      "Layer (type)                 Output Shape              Param #   \n",
      "=================================================================\n",
      "zero_padding2d_2 (ZeroPaddin (None, 70, 70, 3)         0         \n",
      "_________________________________________________________________\n",
      "conv2d_1 (Conv2D)            (None, 64, 64, 32)        4736      \n",
      "_________________________________________________________________\n",
      "batch_normalization_1 (Batch (None, 64, 64, 32)        128       \n",
      "_________________________________________________________________\n",
      "re_lu (ReLU)                 (None, 64, 64, 32)        0         \n",
      "_________________________________________________________________\n",
      "max_pooling2d (MaxPooling2D) (None, 32, 32, 32)        0         \n",
      "_________________________________________________________________\n",
      "flatten (Flatten)            (None, 32768)             0         \n",
      "_________________________________________________________________\n",
      "dense (Dense)                (None, 1)                 32769     \n",
      "=================================================================\n",
      "Total params: 37,633\n",
      "Trainable params: 37,569\n",
      "Non-trainable params: 64\n",
      "_________________________________________________________________\n"
     ]
    }
   ],
   "source": [
    "happy_model.summary()"
   ]
  },
  {
   "cell_type": "markdown",
   "metadata": {},
   "source": [
    "<a name='3-2'></a>\n",
    "### 3.2 - Train and Evaluate the Model\n",
    "\n",
    "After creating the model, compiling it with your choice of optimizer and loss function, and doing a sanity check on its contents, you are now ready to build! \n",
    "\n",
    "Simply call `.fit()` to train. That's it! No need for mini-batching, saving, or complex backpropagation computations. That's all been done for you, as you're using a TensorFlow dataset with the batches specified already. You do have the option to specify epoch number or minibatch size if you like (for example, in the case of an un-batched dataset)."
   ]
  },
  {
   "cell_type": "code",
   "execution_count": 19,
   "metadata": {},
   "outputs": [
    {
     "name": "stdout",
     "output_type": "stream",
     "text": [
      "Epoch 1/10\n",
      "38/38 [==============================] - 4s 100ms/step - loss: 0.8213 - accuracy: 0.7183\n",
      "Epoch 2/10\n",
      "38/38 [==============================] - 4s 100ms/step - loss: 0.2880 - accuracy: 0.8917\n",
      "Epoch 3/10\n",
      "38/38 [==============================] - 4s 100ms/step - loss: 0.1541 - accuracy: 0.9367\n",
      "Epoch 4/10\n",
      "38/38 [==============================] - 4s 102ms/step - loss: 0.2906 - accuracy: 0.8883\n",
      "Epoch 5/10\n",
      "38/38 [==============================] - 4s 103ms/step - loss: 0.1986 - accuracy: 0.9267\n",
      "Epoch 6/10\n",
      "38/38 [==============================] - 4s 100ms/step - loss: 0.1232 - accuracy: 0.9617\n",
      "Epoch 7/10\n",
      "38/38 [==============================] - 4s 97ms/step - loss: 0.1653 - accuracy: 0.9450\n",
      "Epoch 8/10\n",
      "38/38 [==============================] - 4s 100ms/step - loss: 0.0957 - accuracy: 0.9667\n",
      "Epoch 9/10\n",
      "38/38 [==============================] - 4s 100ms/step - loss: 0.0877 - accuracy: 0.9633\n",
      "Epoch 10/10\n",
      "38/38 [==============================] - 4s 100ms/step - loss: 0.0640 - accuracy: 0.9733\n"
     ]
    },
    {
     "data": {
      "text/plain": [
       "<tensorflow.python.keras.callbacks.History at 0x7f9cad14ce10>"
      ]
     },
     "execution_count": 19,
     "metadata": {},
     "output_type": "execute_result"
    }
   ],
   "source": [
    "happy_model.fit(X_train, Y_train, epochs=10, batch_size=16)"
   ]
  },
  {
   "cell_type": "markdown",
   "metadata": {},
   "source": [
    "After that completes, just use `.evaluate()` to evaluate against your test set. This function will print the value of the loss function and the performance metrics specified during the compilation of the model. In this case, the `binary_crossentropy` and the `accuracy` respectively."
   ]
  },
  {
   "cell_type": "code",
   "execution_count": 20,
   "metadata": {},
   "outputs": [
    {
     "name": "stdout",
     "output_type": "stream",
     "text": [
      "5/5 [==============================] - 0s 28ms/step - loss: 0.1198 - accuracy: 0.9533\n"
     ]
    },
    {
     "data": {
      "text/plain": [
       "[0.1197579950094223, 0.95333331823349]"
      ]
     },
     "execution_count": 20,
     "metadata": {},
     "output_type": "execute_result"
    }
   ],
   "source": [
    "happy_model.evaluate(X_test, Y_test)"
   ]
  },
  {
   "cell_type": "markdown",
   "metadata": {},
   "source": [
    "Easy, right? But what if you need to build a model with shared layers, branches, or multiple inputs and outputs? This is where Sequential, with its beautifully simple yet limited functionality, won't be able to help you. \n",
    "\n",
    "Next up: Enter the Functional API, your slightly more complex, highly flexible friend.  "
   ]
  },
  {
   "cell_type": "markdown",
   "metadata": {},
   "source": [
    "<a name='4'></a>\n",
    "## 4 - The Functional API"
   ]
  },
  {
   "cell_type": "markdown",
   "metadata": {},
   "source": [
    "Welcome to the second half of the assignment, where you'll use Keras' flexible [Functional API](https://www.tensorflow.org/guide/keras/functional) to build a ConvNet that can differentiate between 6 sign language digits. \n",
    "\n",
    "The Functional API can handle models with non-linear topology, shared layers, as well as layers with multiple inputs or outputs. Imagine that, where the Sequential API requires the model to move in a linear fashion through its layers, the Functional API allows much more flexibility. Where Sequential is a straight line, a Functional model is a graph, where the nodes of the layers can connect in many more ways than one. \n",
    "\n",
    "In the visual example below, the one possible direction of the movement Sequential model is shown in contrast to a skip connection, which is just one of the many ways a Functional model can be constructed. A skip connection, as you might have guessed, skips some layer in the network and feeds the output to a later layer in the network. Don't worry, you'll be spending more time with skip connections very soon! "
   ]
  },
  {
   "cell_type": "markdown",
   "metadata": {},
   "source": [
    "<img src=\"images/seq_vs_func.png\" style=\"width:350px;height:200px;\">"
   ]
  },
  {
   "cell_type": "markdown",
   "metadata": {},
   "source": [
    "<a name='4-1'></a>\n",
    "### 4.1 - Load the SIGNS Dataset\n",
    "\n",
    "As a reminder, the SIGNS dataset is a collection of 6 signs representing numbers from 0 to 5."
   ]
  },
  {
   "cell_type": "code",
   "execution_count": 21,
   "metadata": {},
   "outputs": [],
   "source": [
    "# Loading the data (signs)\n",
    "X_train_orig, Y_train_orig, X_test_orig, Y_test_orig, classes = load_signs_dataset()"
   ]
  },
  {
   "cell_type": "markdown",
   "metadata": {},
   "source": [
    "<img src=\"images/SIGNS.png\" style=\"width:800px;height:300px;\">\n",
    "\n",
    "The next cell will show you an example of a labelled image in the dataset. Feel free to change the value of `index` below and re-run to see different examples. "
   ]
  },
  {
   "cell_type": "code",
   "execution_count": 22,
   "metadata": {},
   "outputs": [
    {
     "name": "stdout",
     "output_type": "stream",
     "text": [
      "y = 4\n"
     ]
    },
    {
     "data": {
      "image/png": "[encoded data removed]",
      "text/plain": [
       "<Figure size 432x288 with 1 Axes>"
      ]
     },
     "metadata": {
      "needs_background": "light"
     },
     "output_type": "display_data"
    }
   ],
   "source": [
    "# Example of an image from the dataset\n",
    "index = 9\n",
    "plt.imshow(X_train_orig[index])\n",
    "print (\"y = \" + str(np.squeeze(Y_train_orig[:, index])))"
   ]
  },
  {
   "cell_type": "markdown",
   "metadata": {},
   "source": [
    "<a name='4-2'></a>\n",
    "### 4.2 - Split the Data into Train/Test Sets\n",
    "\n",
    "In Course 2, you built a fully-connected network for this dataset. But since this is an image dataset, it is more natural to apply a ConvNet to it.\n",
    "\n",
    "To get started, let's examine the shapes of your data. "
   ]
  },
  {
   "cell_type": "code",
   "execution_count": 23,
   "metadata": {},
   "outputs": [
    {
     "name": "stdout",
     "output_type": "stream",
     "text": [
      "number of training examples = 1080\n",
      "number of test examples = 120\n",
      "X_train shape: (1080, 64, 64, 3)\n",
      "Y_train shape: (1080, 6)\n",
      "X_test shape: (120, 64, 64, 3)\n",
      "Y_test shape: (120, 6)\n"
     ]
    }
   ],
   "source": [
    "X_train = X_train_orig/255.\n",
    "X_test = X_test_orig/255.\n",
    "Y_train = convert_to_one_hot(Y_train_orig, 6).T\n",
    "Y_test = convert_to_one_hot(Y_test_orig, 6).T\n",
    "print (\"number of training examples = \" + str(X_train.shape[0]))\n",
    "print (\"number of test examples = \" + str(X_test.shape[0]))\n",
    "print (\"X_train shape: \" + str(X_train.shape))\n",
    "print (\"Y_train shape: \" + str(Y_train.shape))\n",
    "print (\"X_test shape: \" + str(X_test.shape))\n",
    "print (\"Y_test shape: \" + str(Y_test.shape))"
   ]
  },
  {
   "cell_type": "markdown",
   "metadata": {},
   "source": [
    "<a name='4-3'></a>\n",
    "### 4.3 - Forward Propagation\n",
    "\n",
    "In TensorFlow, there are built-in functions that implement the convolution steps for you. By now, you should be familiar with how TensorFlow builds computational graphs. In the [Functional API](https://www.tensorflow.org/guide/keras/functional), you create a graph of layers. This is what allows such great flexibility.\n",
    "\n",
    "However, the following model could also be defined using the Sequential API since the information flow is on a single line. But don't deviate. What we want you to learn is to use the functional API.\n",
    "\n",
    "Begin building your graph of layers by creating an input node that functions as a callable object:\n",
    "\n",
    "- **input_img = tf.keras.Input(shape=input_shape):** \n",
    "\n",
    "Then, create a new node in the graph of layers by calling a layer on the `input_img` object: \n",
    "\n",
    "- **tf.keras.layers.Conv2D(filters= ... , kernel_size= ... , padding='same')(input_img):** Read the full documentation on [Conv2D](https://www.tensorflow.org/api_docs/python/tf/keras/layers/Conv2D).\n",
    "\n",
    "- **tf.keras.layers.MaxPool2D(pool_size=(f, f), strides=(s, s), padding='same'):** `MaxPool2D()` downsamples your input using a window of size (f, f) and strides of size (s, s) to carry out max pooling over each window.  For max pooling, you usually operate on a single example at a time and a single channel at a time. Read the full documentation on [MaxPool2D](https://www.tensorflow.org/api_docs/python/tf/keras/layers/MaxPool2D).\n",
    "\n",
    "- **tf.keras.layers.ReLU():** computes the elementwise ReLU of Z (which can be any shape). You can read the full documentation on [ReLU](https://www.tensorflow.org/api_docs/python/tf/keras/layers/ReLU).\n",
    "\n",
    "- **tf.keras.layers.Flatten()**: given a tensor \"P\", this function takes each training (or test) example in the batch and flattens it into a 1D vector.  \n",
    "\n",
    "    * If a tensor P has the shape (batch_size,h,w,c), it returns a flattened tensor with shape (batch_size, k), where $k=h \\times w \\times c$.  \"k\" equals the product of all the dimension sizes other than the first dimension.\n",
    "    \n",
    "    * For example, given a tensor with dimensions [100, 2, 3, 4], it flattens the tensor to be of shape [100, 24], where 24 = 2 * 3 * 4.  You can read the full documentation on [Flatten](https://www.tensorflow.org/api_docs/python/tf/keras/layers/Flatten).\n",
    "\n",
    "- **tf.keras.layers.Dense(units= ... , activation='softmax')(F):** given the flattened input F, it returns the output computed using a fully connected layer. You can read the full documentation on [Dense](https://www.tensorflow.org/api_docs/python/tf/keras/layers/Dense).\n",
    "\n",
    "In the last function above (`tf.keras.layers.Dense()`), the fully connected layer automatically initializes weights in the graph and keeps on training them as you train the model. Hence, you did not need to initialize those weights when initializing the parameters.\n",
    "\n",
    "Lastly, before creating the model, you'll need to define the output using the last of the function's compositions (in this example, a Dense layer): \n",
    "\n",
    "- **outputs = tf.keras.layers.Dense(units=6, activation='softmax')(F)**\n",
    "\n",
    "\n",
    "#### Window, kernel, filter, pool\n",
    "\n",
    "The words \"kernel\" and \"filter\" are used to refer to the same thing. The word \"filter\" accounts for the amount of \"kernels\" that will be used in a single convolution layer. \"Pool\" is the name of the operation that takes the max or average value of the kernels. \n",
    "\n",
    "This is why the parameter `pool_size` refers to `kernel_size`, and you use `(f,f)` to refer to the filter size. \n",
    "\n",
    "Pool size and kernel size refer to the same thing in different objects - They refer to the shape of the window where the operation takes place. "
   ]
  },
  {
   "cell_type": "markdown",
   "metadata": {},
   "source": [
    "<a name='ex-2'></a>\n",
    "### Exercise 2 - convolutional_model\n",
    "\n",
    "Implement the `convolutional_model` function below to build the following model: `CONV2D -> RELU -> MAXPOOL -> CONV2D -> RELU -> MAXPOOL -> FLATTEN -> DENSE`. Use the functions above! \n",
    "\n",
    "Also, plug in the following parameters for all the steps:\n",
    "\n",
    " - [Conv2D](https://www.tensorflow.org/api_docs/python/tf/keras/layers/Conv2D): Use 8 4 by 4 filters, stride 1, padding is \"SAME\"\n",
    " - [ReLU](https://www.tensorflow.org/api_docs/python/tf/keras/layers/ReLU)\n",
    " - [MaxPool2D](https://www.tensorflow.org/api_docs/python/tf/keras/layers/MaxPool2D): Use an 8 by 8 filter size and an 8 by 8 stride, padding is \"SAME\"\n",
    " - **Conv2D**: Use 16 2 by 2 filters, stride 1, padding is \"SAME\"\n",
    " - **ReLU**\n",
    " - **MaxPool2D**: Use a 4 by 4 filter size and a 4 by 4 stride, padding is \"SAME\"\n",
    " - [Flatten](https://www.tensorflow.org/api_docs/python/tf/keras/layers/Flatten) the previous output.\n",
    " - Fully-connected ([Dense](https://www.tensorflow.org/api_docs/python/tf/keras/layers/Dense)) layer: Apply a fully connected layer with 6 neurons and a softmax activation. "
   ]
  },
  {
   "cell_type": "code",
   "execution_count": 34,
   "metadata": {
    "deletable": false,
    "nbgrader": {
     "cell_type": "code",
     "checksum": "f58643806aa8380c96225fc8b4c5e7aa",
     "grade": false,
     "grade_id": "cell-dac51744a9e03f51",
     "locked": false,
     "schema_version": 3,
     "solution": true,
     "task": false
    }
   },
   "outputs": [],
   "source": [
    "# GRADED FUNCTION: convolutional_model\n",
    "\n",
    "def convolutional_model(input_shape):\n",
    "    \"\"\"\n",
    "    Implements the forward propagation for the model:\n",
    "    CONV2D -> RELU -> MAXPOOL -> CONV2D -> RELU -> MAXPOOL -> FLATTEN -> DENSE\n",
    "    \n",
    "    Note that for simplicity and grading purposes, you'll hard-code some values\n",
    "    such as the stride and kernel (filter) sizes. \n",
    "    Normally, functions should take these values as function parameters.\n",
    "    \n",
    "    Arguments:\n",
    "    input_img -- input dataset, of shape (input_shape)\n",
    "\n",
    "    Returns:\n",
    "    model -- TF Keras model (object containing the information for the entire training process) \n",
    "    \"\"\"\n",
    "\n",
    "    input_img = tf.keras.Input(shape=input_shape)\n",
    "    ## CONV2D: 8 filters 4x4, stride of 1, padding 'SAME'\n",
    "    # Z1 = None\n",
    "    ## RELU\n",
    "    # A1 = None\n",
    "    ## MAXPOOL: window 8x8, stride 8, padding 'SAME'\n",
    "    # P1 = None\n",
    "    ## CONV2D: 16 filters 2x2, stride 1, padding 'SAME'\n",
    "    # Z2 = None\n",
    "    ## RELU\n",
    "    # A2 = None\n",
    "    ## MAXPOOL: window 4x4, stride 4, padding 'SAME'\n",
    "    # P2 = None\n",
    "    ## FLATTEN\n",
    "    # F = None\n",
    "    ## Dense layer\n",
    "    ## 6 neurons in output layer. Hint: one of the arguments should be \"activation='softmax'\" \n",
    "    # outputs = None\n",
    "    # YOUR CODE STARTS HERE\n",
    "    Z1 = tf.keras.layers.Conv2D(filters=8, kernel_size=(4, 4), strides=(1, 1), padding='same')(input_img)\n",
    "    A1 = tf.keras.layers.ReLU()(Z1)\n",
    "    P1 = tf.keras.layers.MaxPool2D(pool_size=(8, 8), strides=(8, 8), padding='same')(A1)\n",
    "    Z2 = tf.keras.layers.Conv2D(filters=16, kernel_size=(2, 2), strides=(1, 1), padding='same')(P1)\n",
    "    A2 = tf.keras.layers.ReLU()(Z2)\n",
    "    P2 = tf.keras.layers.MaxPool2D(pool_size=(4, 4), strides=(4, 4), padding='same')(A2)\n",
    "    F = tf.keras.layers.Flatten()(P2)\n",
    "    outputs = tf.keras.layers.Dense(units=6, activation='softmax')(F)\n",
    "    \n",
    "    # YOUR CODE ENDS HERE\n",
    "    model = tf.keras.Model(inputs=input_img, outputs=outputs)\n",
    "    return model"
   ]
  },
  {
   "cell_type": "code",
   "execution_count": 35,
   "metadata": {
    "deletable": false,
    "editable": false,
    "nbgrader": {
     "cell_type": "code",
     "checksum": "483d626949930a0b0ef20997e7c6ba72",
     "grade": true,
     "grade_id": "cell-45d22e92042174c9",
     "locked": true,
     "points": 10,
     "schema_version": 3,
     "solution": false,
     "task": false
    }
   },
   "outputs": [
    {
     "name": "stdout",
     "output_type": "stream",
     "text": [
      "Model: \"functional_5\"\n",
      "_________________________________________________________________\n",
      "Layer (type)                 Output Shape              Param #   \n",
      "=================================================================\n",
      "input_6 (InputLayer)         [(None, 64, 64, 3)]       0         \n",
      "_________________________________________________________________\n",
      "conv2d_8 (Conv2D)            (None, 64, 64, 8)         392       \n",
      "_________________________________________________________________\n",
      "re_lu_7 (ReLU)               (None, 64, 64, 8)         0         \n",
      "_________________________________________________________________\n",
      "max_pooling2d_7 (MaxPooling2 (None, 8, 8, 8)           0         \n",
      "_________________________________________________________________\n",
      "conv2d_9 (Conv2D)            (None, 8, 8, 16)          528       \n",
      "_________________________________________________________________\n",
      "re_lu_8 (ReLU)               (None, 8, 8, 16)          0         \n",
      "_________________________________________________________________\n",
      "max_pooling2d_8 (MaxPooling2 (None, 2, 2, 16)          0         \n",
      "_________________________________________________________________\n",
      "flatten_4 (Flatten)          (None, 64)                0         \n",
      "_________________________________________________________________\n",
      "dense_3 (Dense)              (None, 6)                 390       \n",
      "=================================================================\n",
      "Total params: 1,310\n",
      "Trainable params: 1,310\n",
      "Non-trainable params: 0\n",
      "_________________________________________________________________\n",
      "\u001b[32mAll tests passed!\u001b[0m\n"
     ]
    }
   ],
   "source": [
    "conv_model = convolutional_model((64, 64, 3))\n",
    "conv_model.compile(optimizer='adam',\n",
    "                  loss='categorical_crossentropy',\n",
    "                  metrics=['accuracy'])\n",
    "conv_model.summary()\n",
    "    \n",
    "output = [['InputLayer', [(None, 64, 64, 3)], 0],\n",
    "        ['Conv2D', (None, 64, 64, 8), 392, 'same', 'linear', 'GlorotUniform'],\n",
    "        ['ReLU', (None, 64, 64, 8), 0],\n",
    "        ['MaxPooling2D', (None, 8, 8, 8), 0, (8, 8), (8, 8), 'same'],\n",
    "        ['Conv2D', (None, 8, 8, 16), 528, 'same', 'linear', 'GlorotUniform'],\n",
    "        ['ReLU', (None, 8, 8, 16), 0],\n",
    "        ['MaxPooling2D', (None, 2, 2, 16), 0, (4, 4), (4, 4), 'same'],\n",
    "        ['Flatten', (None, 64), 0],\n",
    "        ['Dense', (None, 6), 390, 'softmax']]\n",
    "    \n",
    "comparator(summary(conv_model), output)"
   ]
  },
  {
   "cell_type": "markdown",
   "metadata": {},
   "source": [
    "Both the Sequential and Functional APIs return a TF Keras model object. The only difference is how inputs are handled inside the object model! "
   ]
  },
  {
   "cell_type": "markdown",
   "metadata": {},
   "source": [
    "<a name='4-4'></a>\n",
    "### 4.4 - Train the Model"
   ]
  },
  {
   "cell_type": "code",
   "execution_count": 36,
   "metadata": {},
   "outputs": [
    {
     "name": "stdout",
     "output_type": "stream",
     "text": [
      "Epoch 1/100\n",
      "17/17 [==============================] - 2s 112ms/step - loss: 1.8191 - accuracy: 0.1639 - val_loss: 1.7959 - val_accuracy: 0.1833\n",
      "Epoch 2/100\n",
      "17/17 [==============================] - 2s 111ms/step - loss: 1.7942 - accuracy: 0.1722 - val_loss: 1.7916 - val_accuracy: 0.1917\n",
      "Epoch 3/100\n",
      "17/17 [==============================] - 2s 107ms/step - loss: 1.7909 - accuracy: 0.2028 - val_loss: 1.7888 - val_accuracy: 0.2000\n",
      "Epoch 4/100\n",
      "17/17 [==============================] - 2s 111ms/step - loss: 1.7885 - accuracy: 0.1759 - val_loss: 1.7860 - val_accuracy: 0.2333\n",
      "Epoch 5/100\n",
      "17/17 [==============================] - 2s 111ms/step - loss: 1.7867 - accuracy: 0.2278 - val_loss: 1.7844 - val_accuracy: 0.2583\n",
      "Epoch 6/100\n",
      "17/17 [==============================] - 2s 111ms/step - loss: 1.7845 - accuracy: 0.2417 - val_loss: 1.7816 - val_accuracy: 0.2667\n",
      "Epoch 7/100\n",
      "17/17 [==============================] - 2s 112ms/step - loss: 1.7817 - accuracy: 0.2491 - val_loss: 1.7791 - val_accuracy: 0.2667\n",
      "Epoch 8/100\n",
      "17/17 [==============================] - 2s 112ms/step - loss: 1.7788 - accuracy: 0.2806 - val_loss: 1.7759 - val_accuracy: 0.2750\n",
      "Epoch 9/100\n",
      "17/17 [==============================] - 2s 112ms/step - loss: 1.7754 - accuracy: 0.2926 - val_loss: 1.7720 - val_accuracy: 0.2667\n",
      "Epoch 10/100\n",
      "17/17 [==============================] - 2s 106ms/step - loss: 1.7701 - accuracy: 0.2972 - val_loss: 1.7682 - val_accuracy: 0.2917\n",
      "Epoch 11/100\n",
      "17/17 [==============================] - 2s 112ms/step - loss: 1.7644 - accuracy: 0.3148 - val_loss: 1.7610 - val_accuracy: 0.2833\n",
      "Epoch 12/100\n",
      "17/17 [==============================] - 2s 111ms/step - loss: 1.7548 - accuracy: 0.3389 - val_loss: 1.7511 - val_accuracy: 0.4250\n",
      "Epoch 13/100\n",
      "17/17 [==============================] - 2s 111ms/step - loss: 1.7435 - accuracy: 0.3676 - val_loss: 1.7397 - val_accuracy: 0.4000\n",
      "Epoch 14/100\n",
      "17/17 [==============================] - 2s 112ms/step - loss: 1.7291 - accuracy: 0.3694 - val_loss: 1.7244 - val_accuracy: 0.4250\n",
      "Epoch 15/100\n",
      "17/17 [==============================] - 2s 106ms/step - loss: 1.7091 - accuracy: 0.3917 - val_loss: 1.7058 - val_accuracy: 0.4500\n",
      "Epoch 16/100\n",
      "17/17 [==============================] - 2s 107ms/step - loss: 1.6839 - accuracy: 0.4176 - val_loss: 1.6819 - val_accuracy: 0.4750\n",
      "Epoch 17/100\n",
      "17/17 [==============================] - 2s 112ms/step - loss: 1.6515 - accuracy: 0.4278 - val_loss: 1.6544 - val_accuracy: 0.5333\n",
      "Epoch 18/100\n",
      "17/17 [==============================] - 2s 112ms/step - loss: 1.6124 - accuracy: 0.4398 - val_loss: 1.6190 - val_accuracy: 0.5083\n",
      "Epoch 19/100\n",
      "17/17 [==============================] - 2s 112ms/step - loss: 1.5682 - accuracy: 0.4537 - val_loss: 1.5792 - val_accuracy: 0.4750\n",
      "Epoch 20/100\n",
      "17/17 [==============================] - 2s 107ms/step - loss: 1.5218 - accuracy: 0.4685 - val_loss: 1.5355 - val_accuracy: 0.4500\n",
      "Epoch 21/100\n",
      "17/17 [==============================] - 2s 106ms/step - loss: 1.4748 - accuracy: 0.4713 - val_loss: 1.4916 - val_accuracy: 0.4417\n",
      "Epoch 22/100\n",
      "17/17 [==============================] - 2s 111ms/step - loss: 1.4292 - accuracy: 0.4889 - val_loss: 1.4464 - val_accuracy: 0.4750\n",
      "Epoch 23/100\n",
      "17/17 [==============================] - 2s 112ms/step - loss: 1.3849 - accuracy: 0.4991 - val_loss: 1.3973 - val_accuracy: 0.4750\n",
      "Epoch 24/100\n",
      "17/17 [==============================] - 2s 106ms/step - loss: 1.3402 - accuracy: 0.5009 - val_loss: 1.3521 - val_accuracy: 0.5083\n",
      "Epoch 25/100\n",
      "17/17 [==============================] - 2s 112ms/step - loss: 1.2984 - accuracy: 0.5102 - val_loss: 1.3082 - val_accuracy: 0.5167\n",
      "Epoch 26/100\n",
      "17/17 [==============================] - 2s 117ms/step - loss: 1.2619 - accuracy: 0.5222 - val_loss: 1.2716 - val_accuracy: 0.5333\n",
      "Epoch 27/100\n",
      "17/17 [==============================] - 2s 107ms/step - loss: 1.2277 - accuracy: 0.5389 - val_loss: 1.2327 - val_accuracy: 0.5667\n",
      "Epoch 28/100\n",
      "17/17 [==============================] - 2s 111ms/step - loss: 1.1946 - accuracy: 0.5528 - val_loss: 1.1985 - val_accuracy: 0.5750\n",
      "Epoch 29/100\n",
      "17/17 [==============================] - 2s 112ms/step - loss: 1.1657 - accuracy: 0.5657 - val_loss: 1.1684 - val_accuracy: 0.6000\n",
      "Epoch 30/100\n",
      "17/17 [==============================] - 2s 112ms/step - loss: 1.1366 - accuracy: 0.5796 - val_loss: 1.1389 - val_accuracy: 0.6083\n",
      "Epoch 31/100\n",
      "17/17 [==============================] - 2s 113ms/step - loss: 1.1075 - accuracy: 0.5944 - val_loss: 1.1095 - val_accuracy: 0.6167\n",
      "Epoch 32/100\n",
      "17/17 [==============================] - 2s 112ms/step - loss: 1.0820 - accuracy: 0.6065 - val_loss: 1.0833 - val_accuracy: 0.6167\n",
      "Epoch 33/100\n",
      "17/17 [==============================] - 2s 112ms/step - loss: 1.0564 - accuracy: 0.6176 - val_loss: 1.0592 - val_accuracy: 0.6083\n",
      "Epoch 34/100\n",
      "17/17 [==============================] - 2s 112ms/step - loss: 1.0315 - accuracy: 0.6370 - val_loss: 1.0338 - val_accuracy: 0.6250\n",
      "Epoch 35/100\n",
      "17/17 [==============================] - 2s 112ms/step - loss: 1.0084 - accuracy: 0.6519 - val_loss: 1.0119 - val_accuracy: 0.6250\n",
      "Epoch 36/100\n",
      "17/17 [==============================] - 2s 112ms/step - loss: 0.9864 - accuracy: 0.6583 - val_loss: 0.9924 - val_accuracy: 0.6333\n",
      "Epoch 37/100\n",
      "17/17 [==============================] - 2s 113ms/step - loss: 0.9644 - accuracy: 0.6676 - val_loss: 0.9695 - val_accuracy: 0.6417\n",
      "Epoch 38/100\n",
      "17/17 [==============================] - 2s 111ms/step - loss: 0.9432 - accuracy: 0.6778 - val_loss: 0.9491 - val_accuracy: 0.6417\n",
      "Epoch 39/100\n",
      "17/17 [==============================] - 2s 112ms/step - loss: 0.9232 - accuracy: 0.6870 - val_loss: 0.9306 - val_accuracy: 0.6333\n",
      "Epoch 40/100\n",
      "17/17 [==============================] - 2s 112ms/step - loss: 0.9033 - accuracy: 0.7019 - val_loss: 0.9120 - val_accuracy: 0.6250\n",
      "Epoch 41/100\n",
      "17/17 [==============================] - 2s 112ms/step - loss: 0.8837 - accuracy: 0.7120 - val_loss: 0.8944 - val_accuracy: 0.6083\n",
      "Epoch 42/100\n",
      "17/17 [==============================] - 2s 112ms/step - loss: 0.8652 - accuracy: 0.7176 - val_loss: 0.8778 - val_accuracy: 0.6250\n",
      "Epoch 43/100\n",
      "17/17 [==============================] - 2s 111ms/step - loss: 0.8471 - accuracy: 0.7222 - val_loss: 0.8624 - val_accuracy: 0.6250\n",
      "Epoch 44/100\n",
      "17/17 [==============================] - 2s 112ms/step - loss: 0.8295 - accuracy: 0.7380 - val_loss: 0.8475 - val_accuracy: 0.6333\n",
      "Epoch 45/100\n",
      "17/17 [==============================] - 2s 112ms/step - loss: 0.8124 - accuracy: 0.7426 - val_loss: 0.8329 - val_accuracy: 0.6250\n",
      "Epoch 46/100\n",
      "17/17 [==============================] - 2s 112ms/step - loss: 0.7958 - accuracy: 0.7509 - val_loss: 0.8205 - val_accuracy: 0.6417\n",
      "Epoch 47/100\n",
      "17/17 [==============================] - 2s 111ms/step - loss: 0.7803 - accuracy: 0.7556 - val_loss: 0.8079 - val_accuracy: 0.6417\n",
      "Epoch 48/100\n",
      "17/17 [==============================] - 2s 112ms/step - loss: 0.7648 - accuracy: 0.7574 - val_loss: 0.7960 - val_accuracy: 0.6417\n",
      "Epoch 49/100\n",
      "17/17 [==============================] - 2s 107ms/step - loss: 0.7496 - accuracy: 0.7602 - val_loss: 0.7827 - val_accuracy: 0.6500\n",
      "Epoch 50/100\n",
      "17/17 [==============================] - 2s 111ms/step - loss: 0.7348 - accuracy: 0.7704 - val_loss: 0.7714 - val_accuracy: 0.6583\n",
      "Epoch 51/100\n",
      "17/17 [==============================] - 2s 107ms/step - loss: 0.7210 - accuracy: 0.7759 - val_loss: 0.7615 - val_accuracy: 0.6583\n",
      "Epoch 52/100\n",
      "17/17 [==============================] - 2s 107ms/step - loss: 0.7073 - accuracy: 0.7787 - val_loss: 0.7509 - val_accuracy: 0.6667\n",
      "Epoch 53/100\n",
      "17/17 [==============================] - 2s 113ms/step - loss: 0.6936 - accuracy: 0.7870 - val_loss: 0.7401 - val_accuracy: 0.6833\n",
      "Epoch 54/100\n",
      "17/17 [==============================] - 2s 112ms/step - loss: 0.6807 - accuracy: 0.7889 - val_loss: 0.7305 - val_accuracy: 0.6917\n",
      "Epoch 55/100\n",
      "17/17 [==============================] - 2s 107ms/step - loss: 0.6681 - accuracy: 0.7963 - val_loss: 0.7209 - val_accuracy: 0.6917\n",
      "Epoch 56/100\n",
      "17/17 [==============================] - 2s 117ms/step - loss: 0.6562 - accuracy: 0.8000 - val_loss: 0.7117 - val_accuracy: 0.7000\n",
      "Epoch 57/100\n",
      "17/17 [==============================] - 2s 111ms/step - loss: 0.6438 - accuracy: 0.8046 - val_loss: 0.7028 - val_accuracy: 0.7000\n",
      "Epoch 58/100\n",
      "17/17 [==============================] - 2s 107ms/step - loss: 0.6323 - accuracy: 0.8083 - val_loss: 0.6947 - val_accuracy: 0.7000\n",
      "Epoch 59/100\n",
      "17/17 [==============================] - 2s 112ms/step - loss: 0.6210 - accuracy: 0.8120 - val_loss: 0.6863 - val_accuracy: 0.7000\n",
      "Epoch 60/100\n",
      "17/17 [==============================] - 2s 112ms/step - loss: 0.6102 - accuracy: 0.8130 - val_loss: 0.6783 - val_accuracy: 0.7083\n",
      "Epoch 61/100\n",
      "17/17 [==============================] - 2s 107ms/step - loss: 0.5993 - accuracy: 0.8204 - val_loss: 0.6704 - val_accuracy: 0.7167\n",
      "Epoch 62/100\n",
      "17/17 [==============================] - 2s 112ms/step - loss: 0.5893 - accuracy: 0.8259 - val_loss: 0.6625 - val_accuracy: 0.7167\n",
      "Epoch 63/100\n",
      "17/17 [==============================] - 2s 112ms/step - loss: 0.5791 - accuracy: 0.8278 - val_loss: 0.6548 - val_accuracy: 0.7167\n",
      "Epoch 64/100\n",
      "17/17 [==============================] - 2s 112ms/step - loss: 0.5695 - accuracy: 0.8343 - val_loss: 0.6475 - val_accuracy: 0.7167\n",
      "Epoch 65/100\n",
      "17/17 [==============================] - 2s 112ms/step - loss: 0.5600 - accuracy: 0.8352 - val_loss: 0.6400 - val_accuracy: 0.7333\n",
      "Epoch 66/100\n",
      "17/17 [==============================] - 2s 112ms/step - loss: 0.5510 - accuracy: 0.8380 - val_loss: 0.6325 - val_accuracy: 0.7333\n",
      "Epoch 67/100\n",
      "17/17 [==============================] - 2s 112ms/step - loss: 0.5420 - accuracy: 0.8407 - val_loss: 0.6247 - val_accuracy: 0.7500\n",
      "Epoch 68/100\n",
      "17/17 [==============================] - 2s 107ms/step - loss: 0.5335 - accuracy: 0.8463 - val_loss: 0.6176 - val_accuracy: 0.7583\n",
      "Epoch 69/100\n",
      "17/17 [==============================] - 2s 111ms/step - loss: 0.5250 - accuracy: 0.8500 - val_loss: 0.6109 - val_accuracy: 0.7583\n",
      "Epoch 70/100\n",
      "17/17 [==============================] - 2s 117ms/step - loss: 0.5171 - accuracy: 0.8500 - val_loss: 0.6048 - val_accuracy: 0.7583\n",
      "Epoch 71/100\n",
      "17/17 [==============================] - 2s 107ms/step - loss: 0.5090 - accuracy: 0.8546 - val_loss: 0.5986 - val_accuracy: 0.7667\n",
      "Epoch 72/100\n",
      "17/17 [==============================] - 2s 112ms/step - loss: 0.5015 - accuracy: 0.8583 - val_loss: 0.5932 - val_accuracy: 0.7833\n",
      "Epoch 73/100\n",
      "17/17 [==============================] - 2s 112ms/step - loss: 0.4939 - accuracy: 0.8630 - val_loss: 0.5871 - val_accuracy: 0.7917\n",
      "Epoch 74/100\n",
      "17/17 [==============================] - 2s 107ms/step - loss: 0.4865 - accuracy: 0.8657 - val_loss: 0.5810 - val_accuracy: 0.7917\n",
      "Epoch 75/100\n",
      "17/17 [==============================] - 2s 111ms/step - loss: 0.4792 - accuracy: 0.8694 - val_loss: 0.5761 - val_accuracy: 0.7917\n",
      "Epoch 76/100\n",
      "17/17 [==============================] - 2s 112ms/step - loss: 0.4722 - accuracy: 0.8694 - val_loss: 0.5706 - val_accuracy: 0.8000\n",
      "Epoch 77/100\n",
      "17/17 [==============================] - 2s 111ms/step - loss: 0.4657 - accuracy: 0.8731 - val_loss: 0.5664 - val_accuracy: 0.8000\n",
      "Epoch 78/100\n",
      "17/17 [==============================] - 2s 112ms/step - loss: 0.4592 - accuracy: 0.8750 - val_loss: 0.5623 - val_accuracy: 0.8000\n",
      "Epoch 79/100\n",
      "17/17 [==============================] - 2s 111ms/step - loss: 0.4529 - accuracy: 0.8769 - val_loss: 0.5582 - val_accuracy: 0.8000\n",
      "Epoch 80/100\n",
      "17/17 [==============================] - 2s 112ms/step - loss: 0.4466 - accuracy: 0.8769 - val_loss: 0.5539 - val_accuracy: 0.7833\n",
      "Epoch 81/100\n",
      "17/17 [==============================] - 2s 112ms/step - loss: 0.4405 - accuracy: 0.8778 - val_loss: 0.5502 - val_accuracy: 0.7833\n",
      "Epoch 82/100\n",
      "17/17 [==============================] - 2s 113ms/step - loss: 0.4346 - accuracy: 0.8787 - val_loss: 0.5459 - val_accuracy: 0.7833\n",
      "Epoch 83/100\n",
      "17/17 [==============================] - 2s 112ms/step - loss: 0.4289 - accuracy: 0.8796 - val_loss: 0.5423 - val_accuracy: 0.7833\n",
      "Epoch 84/100\n",
      "17/17 [==============================] - 2s 112ms/step - loss: 0.4233 - accuracy: 0.8806 - val_loss: 0.5382 - val_accuracy: 0.7917\n",
      "Epoch 85/100\n",
      "17/17 [==============================] - 2s 112ms/step - loss: 0.4180 - accuracy: 0.8815 - val_loss: 0.5342 - val_accuracy: 0.8000\n",
      "Epoch 86/100\n",
      "17/17 [==============================] - 2s 106ms/step - loss: 0.4127 - accuracy: 0.8824 - val_loss: 0.5299 - val_accuracy: 0.8000\n",
      "Epoch 87/100\n",
      "17/17 [==============================] - 2s 112ms/step - loss: 0.4074 - accuracy: 0.8833 - val_loss: 0.5265 - val_accuracy: 0.8000\n",
      "Epoch 88/100\n",
      "17/17 [==============================] - 2s 112ms/step - loss: 0.4024 - accuracy: 0.8861 - val_loss: 0.5226 - val_accuracy: 0.8000\n",
      "Epoch 89/100\n",
      "17/17 [==============================] - 2s 112ms/step - loss: 0.3975 - accuracy: 0.8861 - val_loss: 0.5193 - val_accuracy: 0.8083\n",
      "Epoch 90/100\n",
      "17/17 [==============================] - 2s 112ms/step - loss: 0.3927 - accuracy: 0.8870 - val_loss: 0.5158 - val_accuracy: 0.8083\n",
      "Epoch 91/100\n",
      "17/17 [==============================] - 2s 107ms/step - loss: 0.3882 - accuracy: 0.8870 - val_loss: 0.5124 - val_accuracy: 0.8167\n",
      "Epoch 92/100\n",
      "17/17 [==============================] - 2s 112ms/step - loss: 0.3840 - accuracy: 0.8880 - val_loss: 0.5087 - val_accuracy: 0.8250\n",
      "Epoch 93/100\n",
      "17/17 [==============================] - 2s 107ms/step - loss: 0.3797 - accuracy: 0.8926 - val_loss: 0.5057 - val_accuracy: 0.8333\n",
      "Epoch 94/100\n",
      "17/17 [==============================] - 2s 111ms/step - loss: 0.3755 - accuracy: 0.8954 - val_loss: 0.5031 - val_accuracy: 0.8417\n",
      "Epoch 95/100\n",
      "17/17 [==============================] - 2s 112ms/step - loss: 0.3714 - accuracy: 0.8972 - val_loss: 0.4998 - val_accuracy: 0.8417\n",
      "Epoch 96/100\n",
      "17/17 [==============================] - 2s 112ms/step - loss: 0.3674 - accuracy: 0.9000 - val_loss: 0.4973 - val_accuracy: 0.8417\n",
      "Epoch 97/100\n",
      "17/17 [==============================] - 2s 112ms/step - loss: 0.3634 - accuracy: 0.9000 - val_loss: 0.4944 - val_accuracy: 0.8417\n",
      "Epoch 98/100\n",
      "17/17 [==============================] - 2s 112ms/step - loss: 0.3594 - accuracy: 0.9009 - val_loss: 0.4917 - val_accuracy: 0.8417\n",
      "Epoch 99/100\n",
      "17/17 [==============================] - 2s 112ms/step - loss: 0.3557 - accuracy: 0.9028 - val_loss: 0.4887 - val_accuracy: 0.8417\n",
      "Epoch 100/100\n",
      "17/17 [==============================] - 2s 112ms/step - loss: 0.3519 - accuracy: 0.9037 - val_loss: 0.4871 - val_accuracy: 0.8417\n"
     ]
    }
   ],
   "source": [
    "train_dataset = tf.data.Dataset.from_tensor_slices((X_train, Y_train)).batch(64)\n",
    "test_dataset = tf.data.Dataset.from_tensor_slices((X_test, Y_test)).batch(64)\n",
    "history = conv_model.fit(train_dataset, epochs=100, validation_data=test_dataset)"
   ]
  },
  {
   "cell_type": "markdown",
   "metadata": {},
   "source": [
    "<a name='5'></a>\n",
    "## 5 - History Object \n",
    "\n",
    "The history object is an output of the `.fit()` operation, and provides a record of all the loss and metric values in memory. It's stored as a dictionary that you can retrieve at `history.history`: "
   ]
  },
  {
   "cell_type": "code",
   "execution_count": 37,
   "metadata": {},
   "outputs": [
    {
     "data": {
      "text/plain": [
       "{'loss': [1.819128155708313,\n",
       "  1.794226884841919,\n",
       "  1.7909417152404785,\n",
       "  1.788498878479004,\n",
       "  1.7866530418395996,\n",
       "  1.7845039367675781,\n",
       "  1.781693935394287,\n",
       "  1.7788299322128296,\n",
       "  1.7753504514694214,\n",
       "  1.7701091766357422,\n",
       "  1.7644102573394775,\n",
       "  1.754791498184204,\n",
       "  1.7435405254364014,\n",
       "  1.7291477918624878,\n",
       "  1.7091223001480103,\n",
       "  1.6839487552642822,\n",
       "  1.6515229940414429,\n",
       "  1.6124134063720703,\n",
       "  1.5682239532470703,\n",
       "  1.521785020828247,\n",
       "  1.4748338460922241,\n",
       "  1.4291741847991943,\n",
       "  1.384864091873169,\n",
       "  1.340168833732605,\n",
       "  1.2984334230422974,\n",
       "  1.2618844509124756,\n",
       "  1.227738380432129,\n",
       "  1.1946407556533813,\n",
       "  1.165747046470642,\n",
       "  1.1366448402404785,\n",
       "  1.1075166463851929,\n",
       "  1.0820192098617554,\n",
       "  1.056421160697937,\n",
       "  1.0315333604812622,\n",
       "  1.008387565612793,\n",
       "  0.986394464969635,\n",
       "  0.9643520712852478,\n",
       "  0.9432423710823059,\n",
       "  0.9231768250465393,\n",
       "  0.9033108353614807,\n",
       "  0.8837152719497681,\n",
       "  0.865186870098114,\n",
       "  0.8471430540084839,\n",
       "  0.8294512629508972,\n",
       "  0.8123769164085388,\n",
       "  0.7958431839942932,\n",
       "  0.7803114056587219,\n",
       "  0.7648183703422546,\n",
       "  0.7495685815811157,\n",
       "  0.7348288893699646,\n",
       "  0.7210242748260498,\n",
       "  0.7072910070419312,\n",
       "  0.6936454772949219,\n",
       "  0.6806637644767761,\n",
       "  0.6681328415870667,\n",
       "  0.6561823487281799,\n",
       "  0.6438326835632324,\n",
       "  0.6322521567344666,\n",
       "  0.6209649443626404,\n",
       "  0.6101756691932678,\n",
       "  0.5993110537528992,\n",
       "  0.5892501473426819,\n",
       "  0.5790787935256958,\n",
       "  0.5694893598556519,\n",
       "  0.5599545836448669,\n",
       "  0.5510186553001404,\n",
       "  0.5420243144035339,\n",
       "  0.5335442423820496,\n",
       "  0.5250198245048523,\n",
       "  0.5171179175376892,\n",
       "  0.5090428590774536,\n",
       "  0.5015144348144531,\n",
       "  0.4939069449901581,\n",
       "  0.4865258038043976,\n",
       "  0.4792046546936035,\n",
       "  0.4721928536891937,\n",
       "  0.4657321274280548,\n",
       "  0.45916882157325745,\n",
       "  0.4528583586215973,\n",
       "  0.4465803802013397,\n",
       "  0.44052600860595703,\n",
       "  0.4346436560153961,\n",
       "  0.42885541915893555,\n",
       "  0.42329341173171997,\n",
       "  0.4180106222629547,\n",
       "  0.4126526117324829,\n",
       "  0.4073702394962311,\n",
       "  0.4023609459400177,\n",
       "  0.3974806070327759,\n",
       "  0.39272552728652954,\n",
       "  0.388192743062973,\n",
       "  0.3839942514896393,\n",
       "  0.3796989321708679,\n",
       "  0.3754936456680298,\n",
       "  0.37143340706825256,\n",
       "  0.36739104986190796,\n",
       "  0.3633594512939453,\n",
       "  0.35937684774398804,\n",
       "  0.35566985607147217,\n",
       "  0.35191041231155396],\n",
       " 'accuracy': [0.16388888657093048,\n",
       "  0.17222222685813904,\n",
       "  0.20277777314186096,\n",
       "  0.17592592537403107,\n",
       "  0.22777777910232544,\n",
       "  0.24166665971279144,\n",
       "  0.2490740716457367,\n",
       "  0.2805555462837219,\n",
       "  0.2925925850868225,\n",
       "  0.29722222685813904,\n",
       "  0.31481480598449707,\n",
       "  0.33888888359069824,\n",
       "  0.36759260296821594,\n",
       "  0.36944442987442017,\n",
       "  0.3916666805744171,\n",
       "  0.4175925850868225,\n",
       "  0.4277777671813965,\n",
       "  0.43981480598449707,\n",
       "  0.45370370149612427,\n",
       "  0.46851852536201477,\n",
       "  0.4712963104248047,\n",
       "  0.4888888895511627,\n",
       "  0.4990740716457367,\n",
       "  0.5009258985519409,\n",
       "  0.510185182094574,\n",
       "  0.5222222208976746,\n",
       "  0.5388888716697693,\n",
       "  0.5527777671813965,\n",
       "  0.5657407641410828,\n",
       "  0.5796296000480652,\n",
       "  0.5944444537162781,\n",
       "  0.6064814925193787,\n",
       "  0.6175925731658936,\n",
       "  0.6370370388031006,\n",
       "  0.6518518328666687,\n",
       "  0.6583333611488342,\n",
       "  0.6675925850868225,\n",
       "  0.6777777671813965,\n",
       "  0.6870370507240295,\n",
       "  0.7018518447875977,\n",
       "  0.7120370268821716,\n",
       "  0.7175925970077515,\n",
       "  0.7222222089767456,\n",
       "  0.7379629611968994,\n",
       "  0.7425925731658936,\n",
       "  0.7509258985519409,\n",
       "  0.7555555701255798,\n",
       "  0.7574074268341064,\n",
       "  0.760185182094574,\n",
       "  0.770370364189148,\n",
       "  0.7759259343147278,\n",
       "  0.7787036895751953,\n",
       "  0.7870370149612427,\n",
       "  0.7888888716697693,\n",
       "  0.7962962985038757,\n",
       "  0.800000011920929,\n",
       "  0.8046296238899231,\n",
       "  0.8083333373069763,\n",
       "  0.8120370507240295,\n",
       "  0.8129629492759705,\n",
       "  0.8203703761100769,\n",
       "  0.8259259462356567,\n",
       "  0.8277778029441833,\n",
       "  0.8342592716217041,\n",
       "  0.835185170173645,\n",
       "  0.8379629850387573,\n",
       "  0.8407407402992249,\n",
       "  0.8462963104248047,\n",
       "  0.8500000238418579,\n",
       "  0.8500000238418579,\n",
       "  0.854629635810852,\n",
       "  0.8583333492279053,\n",
       "  0.8629629611968994,\n",
       "  0.8657407164573669,\n",
       "  0.8694444298744202,\n",
       "  0.8694444298744202,\n",
       "  0.8731481432914734,\n",
       "  0.875,\n",
       "  0.8768518567085266,\n",
       "  0.8768518567085266,\n",
       "  0.8777777552604675,\n",
       "  0.8787037134170532,\n",
       "  0.8796296119689941,\n",
       "  0.8805555701255798,\n",
       "  0.8814814686775208,\n",
       "  0.8824074268341064,\n",
       "  0.8833333253860474,\n",
       "  0.8861111402511597,\n",
       "  0.8861111402511597,\n",
       "  0.8870370388031006,\n",
       "  0.8870370388031006,\n",
       "  0.8879629373550415,\n",
       "  0.8925926089286804,\n",
       "  0.895370364189148,\n",
       "  0.8972222208976746,\n",
       "  0.8999999761581421,\n",
       "  0.8999999761581421,\n",
       "  0.9009259343147278,\n",
       "  0.9027777910232544,\n",
       "  0.9037036895751953],\n",
       " 'val_loss': [1.795925259590149,\n",
       "  1.7916430234909058,\n",
       "  1.7887539863586426,\n",
       "  1.7860124111175537,\n",
       "  1.7844183444976807,\n",
       "  1.7815953493118286,\n",
       "  1.7790580987930298,\n",
       "  1.7759041786193848,\n",
       "  1.7720370292663574,\n",
       "  1.7681926488876343,\n",
       "  1.7610232830047607,\n",
       "  1.751134991645813,\n",
       "  1.7396626472473145,\n",
       "  1.7243950366973877,\n",
       "  1.7057558298110962,\n",
       "  1.6818766593933105,\n",
       "  1.6543571949005127,\n",
       "  1.6190201044082642,\n",
       "  1.5791791677474976,\n",
       "  1.5355099439620972,\n",
       "  1.491613745689392,\n",
       "  1.4464317560195923,\n",
       "  1.3972691297531128,\n",
       "  1.3520642518997192,\n",
       "  1.3081609010696411,\n",
       "  1.271607756614685,\n",
       "  1.232709527015686,\n",
       "  1.1984858512878418,\n",
       "  1.1684049367904663,\n",
       "  1.1388674974441528,\n",
       "  1.1095072031021118,\n",
       "  1.0833228826522827,\n",
       "  1.0591826438903809,\n",
       "  1.0338184833526611,\n",
       "  1.0119223594665527,\n",
       "  0.9924252033233643,\n",
       "  0.969527542591095,\n",
       "  0.9490538835525513,\n",
       "  0.9305693507194519,\n",
       "  0.9120258092880249,\n",
       "  0.8944495916366577,\n",
       "  0.8778001666069031,\n",
       "  0.8624471426010132,\n",
       "  0.8474656343460083,\n",
       "  0.8329007625579834,\n",
       "  0.820479154586792,\n",
       "  0.8078798651695251,\n",
       "  0.7959693670272827,\n",
       "  0.782730758190155,\n",
       "  0.7713777422904968,\n",
       "  0.7614931464195251,\n",
       "  0.7508792877197266,\n",
       "  0.7401354312896729,\n",
       "  0.7304820418357849,\n",
       "  0.7209209203720093,\n",
       "  0.7117033004760742,\n",
       "  0.7028308510780334,\n",
       "  0.6947014927864075,\n",
       "  0.6862744688987732,\n",
       "  0.6782656908035278,\n",
       "  0.6703803539276123,\n",
       "  0.6625276207923889,\n",
       "  0.6548351049423218,\n",
       "  0.6475031971931458,\n",
       "  0.6400286555290222,\n",
       "  0.6324958801269531,\n",
       "  0.6247156262397766,\n",
       "  0.6175572872161865,\n",
       "  0.6109082698822021,\n",
       "  0.6048189997673035,\n",
       "  0.5985868573188782,\n",
       "  0.5932102203369141,\n",
       "  0.5871200561523438,\n",
       "  0.5810289978981018,\n",
       "  0.5760969519615173,\n",
       "  0.5706282258033752,\n",
       "  0.5663967132568359,\n",
       "  0.5623045563697815,\n",
       "  0.5581944584846497,\n",
       "  0.5539138317108154,\n",
       "  0.5501896739006042,\n",
       "  0.5458911061286926,\n",
       "  0.5423480868339539,\n",
       "  0.5381782054901123,\n",
       "  0.5342170000076294,\n",
       "  0.5299004316329956,\n",
       "  0.526495099067688,\n",
       "  0.5225502848625183,\n",
       "  0.5192751288414001,\n",
       "  0.5157996416091919,\n",
       "  0.5123764872550964,\n",
       "  0.5087429881095886,\n",
       "  0.5057232975959778,\n",
       "  0.5030639171600342,\n",
       "  0.4997871220111847,\n",
       "  0.4972585141658783,\n",
       "  0.4943912625312805,\n",
       "  0.4916723370552063,\n",
       "  0.48870477080345154,\n",
       "  0.4870604872703552],\n",
       " 'val_accuracy': [0.18333333730697632,\n",
       "  0.19166666269302368,\n",
       "  0.20000000298023224,\n",
       "  0.23333333432674408,\n",
       "  0.25833332538604736,\n",
       "  0.2666666805744171,\n",
       "  0.2666666805744171,\n",
       "  0.2750000059604645,\n",
       "  0.2666666805744171,\n",
       "  0.2916666567325592,\n",
       "  0.28333333134651184,\n",
       "  0.42500001192092896,\n",
       "  0.4000000059604645,\n",
       "  0.42500001192092896,\n",
       "  0.44999998807907104,\n",
       "  0.4749999940395355,\n",
       "  0.5333333611488342,\n",
       "  0.5083333253860474,\n",
       "  0.4749999940395355,\n",
       "  0.44999998807907104,\n",
       "  0.4416666626930237,\n",
       "  0.4749999940395355,\n",
       "  0.4749999940395355,\n",
       "  0.5083333253860474,\n",
       "  0.5166666507720947,\n",
       "  0.5333333611488342,\n",
       "  0.5666666626930237,\n",
       "  0.574999988079071,\n",
       "  0.6000000238418579,\n",
       "  0.6083333492279053,\n",
       "  0.6166666746139526,\n",
       "  0.6166666746139526,\n",
       "  0.6083333492279053,\n",
       "  0.625,\n",
       "  0.625,\n",
       "  0.6333333253860474,\n",
       "  0.6416666507720947,\n",
       "  0.6416666507720947,\n",
       "  0.6333333253860474,\n",
       "  0.625,\n",
       "  0.6083333492279053,\n",
       "  0.625,\n",
       "  0.625,\n",
       "  0.6333333253860474,\n",
       "  0.625,\n",
       "  0.6416666507720947,\n",
       "  0.6416666507720947,\n",
       "  0.6416666507720947,\n",
       "  0.6499999761581421,\n",
       "  0.6583333611488342,\n",
       "  0.6583333611488342,\n",
       "  0.6666666865348816,\n",
       "  0.6833333373069763,\n",
       "  0.6916666626930237,\n",
       "  0.6916666626930237,\n",
       "  0.699999988079071,\n",
       "  0.699999988079071,\n",
       "  0.699999988079071,\n",
       "  0.699999988079071,\n",
       "  0.7083333134651184,\n",
       "  0.7166666388511658,\n",
       "  0.7166666388511658,\n",
       "  0.7166666388511658,\n",
       "  0.7166666388511658,\n",
       "  0.7333333492279053,\n",
       "  0.7333333492279053,\n",
       "  0.75,\n",
       "  0.7583333253860474,\n",
       "  0.7583333253860474,\n",
       "  0.7583333253860474,\n",
       "  0.7666666507720947,\n",
       "  0.7833333611488342,\n",
       "  0.7916666865348816,\n",
       "  0.7916666865348816,\n",
       "  0.7916666865348816,\n",
       "  0.800000011920929,\n",
       "  0.800000011920929,\n",
       "  0.800000011920929,\n",
       "  0.800000011920929,\n",
       "  0.7833333611488342,\n",
       "  0.7833333611488342,\n",
       "  0.7833333611488342,\n",
       "  0.7833333611488342,\n",
       "  0.7916666865348816,\n",
       "  0.800000011920929,\n",
       "  0.800000011920929,\n",
       "  0.800000011920929,\n",
       "  0.800000011920929,\n",
       "  0.8083333373069763,\n",
       "  0.8083333373069763,\n",
       "  0.8166666626930237,\n",
       "  0.824999988079071,\n",
       "  0.8333333134651184,\n",
       "  0.8416666388511658,\n",
       "  0.8416666388511658,\n",
       "  0.8416666388511658,\n",
       "  0.8416666388511658,\n",
       "  0.8416666388511658,\n",
       "  0.8416666388511658,\n",
       "  0.8416666388511658]}"
      ]
     },
     "execution_count": 37,
     "metadata": {},
     "output_type": "execute_result"
    }
   ],
   "source": [
    "history.history"
   ]
  },
  {
   "cell_type": "markdown",
   "metadata": {},
   "source": [
    "Now visualize the loss over time using `history.history`: "
   ]
  },
  {
   "cell_type": "code",
   "execution_count": 38,
   "metadata": {},
   "outputs": [
    {
     "data": {
      "text/plain": [
       "[Text(0, 0.5, 'Accuracy'), Text(0.5, 0, 'Epoch')]"
      ]
     },
     "execution_count": 38,
     "metadata": {},
     "output_type": "execute_result"
    },
    {
     "data": {
      "image/png": "[encoded data removed]",
      "text/plain": [
       "<Figure size 864x576 with 1 Axes>"
      ]
     },
     "metadata": {
      "needs_background": "light"
     },
     "output_type": "display_data"
    },
    {
     "data": {
      "image/png": "[encoded data removed]",
      "text/plain": [
       "<Figure size 864x576 with 1 Axes>"
      ]
     },
     "metadata": {
      "needs_background": "light"
     },
     "output_type": "display_data"
    }
   ],
   "source": [
    "# The history.history[\"loss\"] entry is a dictionary with as many values as epochs that the\n",
    "# model was trained on. \n",
    "df_loss_acc = pd.DataFrame(history.history)\n",
    "df_loss= df_loss_acc[['loss','val_loss']]\n",
    "df_loss.rename(columns={'loss':'train','val_loss':'validation'},inplace=True)\n",
    "df_acc= df_loss_acc[['accuracy','val_accuracy']]\n",
    "df_acc.rename(columns={'accuracy':'train','val_accuracy':'validation'},inplace=True)\n",
    "df_loss.plot(title='Model loss',figsize=(12,8)).set(xlabel='Epoch',ylabel='Loss')\n",
    "df_acc.plot(title='Model Accuracy',figsize=(12,8)).set(xlabel='Epoch',ylabel='Accuracy')"
   ]
  },
  {
   "cell_type": "markdown",
   "metadata": {},
   "source": [
    "**Congratulations**! You've finished the assignment and built two models: One that recognizes  smiles, and another that recognizes SIGN language with almost 80% accuracy on the test set. In addition to that, you now also understand the applications of two Keras APIs: Sequential and Functional. Nicely done! \n",
    "\n",
    "By now, you know a bit about how the Functional API works and may have glimpsed the possibilities. In your next assignment, you'll really get a feel for its power when you get the opportunity to build a very deep ConvNet, using ResNets! "
   ]
  },
  {
   "cell_type": "markdown",
   "metadata": {},
   "source": [
    "<a name='6'></a>\n",
    "## 6 - Bibliography\n",
    "\n",
    "You're always encouraged to read the official documentation. To that end, you can find the docs for the Sequential and Functional APIs here: \n",
    "\n",
    "https://www.tensorflow.org/guide/keras/sequential_model\n",
    "\n",
    "https://www.tensorflow.org/guide/keras/functional"
   ]
  }
 ],
 "metadata": {
  "coursera": {
   "course_slug": "convolutional-neural-networks",
   "graded_item_id": "bwbJV",
   "launcher_item_id": "0TkXB"
  },
  "kernelspec": {
   "display_name": "Python 3",
   "language": "python",
   "name": "python3"
  },
  "language_info": {
   "codemirror_mode": {
    "name": "ipython",
    "version": 3
   },
   "file_extension": ".py",
   "mimetype": "text/x-python",
   "name": "python",
   "nbconvert_exporter": "python",
   "pygments_lexer": "ipython3",
   "version": "3.7.6"
  }
 },
 "nbformat": 4,
 "nbformat_minor": 2
}
